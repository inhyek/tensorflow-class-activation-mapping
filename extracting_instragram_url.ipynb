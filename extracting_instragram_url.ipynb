{
 "cells": [
  {
   "cell_type": "markdown",
   "metadata": {},
   "source": [
    "인스타그램에서 사진 url만 추출하는 코드를 만들어 보겠습니다."
   ]
  },
  {
   "cell_type": "code",
   "execution_count": 1,
   "metadata": {
    "collapsed": false
   },
   "outputs": [],
   "source": [
    "import codecs\n",
    "import requests"
   ]
  },
  {
   "cell_type": "code",
   "execution_count": 2,
   "metadata": {
    "collapsed": true
   },
   "outputs": [],
   "source": [
    "# 크롤링한 파일을 여는 함수,\n",
    "# url 주소만 뽑아서 리스트에 저장하는 함수를 만듭니다. \n",
    "def load_doc(filename):\n",
    "    text = codecs.open(filename, 'rU', encoding='utf-8')\n",
    "    return text\n",
    "\n",
    "def get_urls(filename):\n",
    "    doc = load_doc(filename)\n",
    "    urls = []\n",
    "    for i in doc:\n",
    "        urls.append(i)\n",
    "    return urls"
   ]
  },
  {
   "cell_type": "code",
   "execution_count": 3,
   "metadata": {
    "collapsed": false
   },
   "outputs": [],
   "source": [
    "filename = \"data/output_apgujeong.txt\"\n",
    "insta_urls = get_urls(filename)"
   ]
  },
  {
   "cell_type": "code",
   "execution_count": 115,
   "metadata": {
    "collapsed": true
   },
   "outputs": [],
   "source": [
    "#URL만 긁어오기위해 형식을 딕셔너리로 바꾸고 -> 무슨 뜻? \n",
    "#특정 단어 이후에 오는 텍스트만 수집합니다.\n",
    "\n",
    "insta_dict = dict(zip(range(len(insta_urls)), insta_urls)\n",
    "\n",
    "insta_url_list = []\n",
    "for num, text in insta_dict.items():\n",
    "    if text == 'key':\n",
    "        pick = num+1\n",
    "        if 'Replying' in twt_dict[pick].split():\n",
    "            pick = pick+1\n",
    "            twt_text_list.append(twt_dict[pick])\n",
    "        else:\n",
    "            twt_text_list.append(twt_dict[pick])"
   ]
  },
  {
   "cell_type": "code",
   "execution_count": null,
   "metadata": {
    "collapsed": true
   },
   "outputs": [],
   "source": []
  },
  {
   "cell_type": "code",
   "execution_count": null,
   "metadata": {
    "collapsed": true
   },
   "outputs": [],
   "source": []
  },
  {
   "cell_type": "code",
   "execution_count": null,
   "metadata": {
    "collapsed": true
   },
   "outputs": [],
   "source": []
  },
  {
   "cell_type": "code",
   "execution_count": null,
   "metadata": {
    "collapsed": true
   },
   "outputs": [],
   "source": []
  },
  {
   "cell_type": "code",
   "execution_count": null,
   "metadata": {
    "collapsed": true
   },
   "outputs": [],
   "source": []
  }
 ],
 "metadata": {
  "anaconda-cloud": {},
  "kernelspec": {
   "display_name": "Python [default]",
   "language": "python",
   "name": "python3"
  },
  "language_info": {
   "codemirror_mode": {
    "name": "ipython",
    "version": 3
   },
   "file_extension": ".py",
   "mimetype": "text/x-python",
   "name": "python",
   "nbconvert_exporter": "python",
   "pygments_lexer": "ipython3",
   "version": "3.5.2"
  }
 },
 "nbformat": 4,
 "nbformat_minor": 2
}
